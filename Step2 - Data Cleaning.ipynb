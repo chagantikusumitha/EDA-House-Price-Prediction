{
 "cells": [
  {
   "cell_type": "markdown",
   "id": "357dd2e5",
   "metadata": {},
   "source": [
    "# DATA CLEANING"
   ]
  },
  {
   "cell_type": "markdown",
   "id": "12a3174c",
   "metadata": {},
   "source": [
    "We are reading the csv file which has the information that's collected while webscrapping"
   ]
  },
  {
   "cell_type": "code",
   "execution_count": 19,
   "id": "4b4b8a89",
   "metadata": {},
   "outputs": [],
   "source": [
    "df  = pd.read_csv(\"Hyd_Cities\")"
   ]
  },
  {
   "cell_type": "code",
   "execution_count": 129,
   "id": "597862b3",
   "metadata": {},
   "outputs": [
    {
     "data": {
      "text/plain": [
       "Titles                   0\n",
       "Type                     0\n",
       "BHK                      0\n",
       "sft                      0\n",
       "Costpersft               0\n",
       "Prices                   0\n",
       "construction_status      0\n",
       "colony                 555\n",
       "Location                 0\n",
       "seller_info              0\n",
       "Handover               505\n",
       "dtype: int64"
      ]
     },
     "execution_count": 129,
     "metadata": {},
     "output_type": "execute_result"
    }
   ],
   "source": [
    "df.isna().sum()"
   ]
  },
  {
   "cell_type": "markdown",
   "id": "1ce8415c",
   "metadata": {},
   "source": [
    " - As there are many null values for colony column and they wouldn't be accurate even though its filled with median or mode        values so, as none of the columns are dependent on colony column dropping the column would be better.\n",
    " - Handover of the house is important and Prices of the house are dependent on handover even.So, it cannot be dropped."
   ]
  },
  {
   "cell_type": "code",
   "execution_count": 130,
   "id": "720bb9a7",
   "metadata": {},
   "outputs": [],
   "source": [
    "df.drop([\"colony\"],axis = 1,inplace = True)"
   ]
  },
  {
   "cell_type": "code",
   "execution_count": 131,
   "id": "a6b447d1",
   "metadata": {},
   "outputs": [
    {
     "data": {
      "text/html": [
       "<div>\n",
       "<style scoped>\n",
       "    .dataframe tbody tr th:only-of-type {\n",
       "        vertical-align: middle;\n",
       "    }\n",
       "\n",
       "    .dataframe tbody tr th {\n",
       "        vertical-align: top;\n",
       "    }\n",
       "\n",
       "    .dataframe thead th {\n",
       "        text-align: right;\n",
       "    }\n",
       "</style>\n",
       "<table border=\"1\" class=\"dataframe\">\n",
       "  <thead>\n",
       "    <tr style=\"text-align: right;\">\n",
       "      <th></th>\n",
       "      <th>Titles</th>\n",
       "      <th>Type</th>\n",
       "      <th>BHK</th>\n",
       "      <th>sft</th>\n",
       "      <th>Costpersft</th>\n",
       "      <th>Prices</th>\n",
       "      <th>construction_status</th>\n",
       "      <th>Location</th>\n",
       "      <th>seller_info</th>\n",
       "      <th>Handover</th>\n",
       "    </tr>\n",
       "  </thead>\n",
       "  <tbody>\n",
       "    <tr>\n",
       "      <th>0</th>\n",
       "      <td>3 BHK Apartment in Lalitha Divine County</td>\n",
       "      <td>Apartment</td>\n",
       "      <td>3</td>\n",
       "      <td>1535</td>\n",
       "      <td>4900</td>\n",
       "      <td>7521000</td>\n",
       "      <td>Under Construction</td>\n",
       "      <td>Ameenpur</td>\n",
       "      <td>Lalitha Construction and DevelopersBUILDER0</td>\n",
       "      <td>Jan 2023</td>\n",
       "    </tr>\n",
       "    <tr>\n",
       "      <th>1</th>\n",
       "      <td>3 BHK Villa in Nest Bliss In The Woods</td>\n",
       "      <td>Villa</td>\n",
       "      <td>3</td>\n",
       "      <td>4000</td>\n",
       "      <td>8275</td>\n",
       "      <td>33100000</td>\n",
       "      <td>Under Construction</td>\n",
       "      <td>Harshaguda</td>\n",
       "      <td>Nest MakersBUILDER0</td>\n",
       "      <td>Sep 2024</td>\n",
       "    </tr>\n",
       "    <tr>\n",
       "      <th>2</th>\n",
       "      <td>3 BHK Apartment in Candeur Crescent</td>\n",
       "      <td>Apartment</td>\n",
       "      <td>3</td>\n",
       "      <td>2548</td>\n",
       "      <td>7810</td>\n",
       "      <td>19900000</td>\n",
       "      <td>Under Construction</td>\n",
       "      <td>Serilingampally</td>\n",
       "      <td>Candeur Developers And BuildersBUILDER0</td>\n",
       "      <td>Dec 2025</td>\n",
       "    </tr>\n",
       "    <tr>\n",
       "      <th>3</th>\n",
       "      <td>3 BHK Apartment in GHR Callisto</td>\n",
       "      <td>Apartment</td>\n",
       "      <td>3</td>\n",
       "      <td>1775</td>\n",
       "      <td>5199</td>\n",
       "      <td>9228000</td>\n",
       "      <td>Under Construction</td>\n",
       "      <td>Kollur</td>\n",
       "      <td>GHR InfraBUILDER0</td>\n",
       "      <td>Nov 2025</td>\n",
       "    </tr>\n",
       "    <tr>\n",
       "      <th>4</th>\n",
       "      <td>3 BHK Apartment in Vazhraa Vazhraa Prathik</td>\n",
       "      <td>Apartment</td>\n",
       "      <td>3</td>\n",
       "      <td>1835</td>\n",
       "      <td>6500</td>\n",
       "      <td>11900000</td>\n",
       "      <td>Under Construction</td>\n",
       "      <td>Nizampet</td>\n",
       "      <td>Vazhraa Nirmaan Pvt LtdBUILDER0</td>\n",
       "      <td>Apr 2023</td>\n",
       "    </tr>\n",
       "    <tr>\n",
       "      <th>...</th>\n",
       "      <td>...</td>\n",
       "      <td>...</td>\n",
       "      <td>...</td>\n",
       "      <td>...</td>\n",
       "      <td>...</td>\n",
       "      <td>...</td>\n",
       "      <td>...</td>\n",
       "      <td>...</td>\n",
       "      <td>...</td>\n",
       "      <td>...</td>\n",
       "    </tr>\n",
       "    <tr>\n",
       "      <th>1175</th>\n",
       "      <td>10 BHK Independent House</td>\n",
       "      <td>Independent</td>\n",
       "      <td>10</td>\n",
       "      <td>9000</td>\n",
       "      <td>7222</td>\n",
       "      <td>65000000</td>\n",
       "      <td>Ready to move</td>\n",
       "      <td>Madhapur</td>\n",
       "      <td>Sahara Real Estate ConsultantsAGENT0</td>\n",
       "      <td>NaN</td>\n",
       "    </tr>\n",
       "    <tr>\n",
       "      <th>1176</th>\n",
       "      <td>3 BHK Apartment</td>\n",
       "      <td>Apartment</td>\n",
       "      <td>3</td>\n",
       "      <td>1670</td>\n",
       "      <td>10000</td>\n",
       "      <td>16700000</td>\n",
       "      <td>Ready to move</td>\n",
       "      <td>Madhapur</td>\n",
       "      <td>Sahara Real Estate ConsultantsAGENT0</td>\n",
       "      <td>NaN</td>\n",
       "    </tr>\n",
       "    <tr>\n",
       "      <th>1177</th>\n",
       "      <td>3 BHK Apartment</td>\n",
       "      <td>Apartment</td>\n",
       "      <td>3</td>\n",
       "      <td>1550</td>\n",
       "      <td>10004</td>\n",
       "      <td>15500000</td>\n",
       "      <td>Ready to move</td>\n",
       "      <td>Madhapur</td>\n",
       "      <td>Sahara Real Estate ConsultantsAGENT0</td>\n",
       "      <td>NaN</td>\n",
       "    </tr>\n",
       "    <tr>\n",
       "      <th>1178</th>\n",
       "      <td>3 BHK Apartment</td>\n",
       "      <td>Apartment</td>\n",
       "      <td>3</td>\n",
       "      <td>1360</td>\n",
       "      <td>6617</td>\n",
       "      <td>9000000</td>\n",
       "      <td>Ready to move</td>\n",
       "      <td>Madhapur</td>\n",
       "      <td>Sahara Real Estate ConsultantsAGENT0</td>\n",
       "      <td>NaN</td>\n",
       "    </tr>\n",
       "    <tr>\n",
       "      <th>1179</th>\n",
       "      <td>2 BHK Apartment in Pearl Uptown</td>\n",
       "      <td>Apartment</td>\n",
       "      <td>2</td>\n",
       "      <td>1000</td>\n",
       "      <td>4350</td>\n",
       "      <td>4350000</td>\n",
       "      <td>Ready to move</td>\n",
       "      <td>Kowkur</td>\n",
       "      <td>Vikram ReddyAGENT0</td>\n",
       "      <td>1 year old</td>\n",
       "    </tr>\n",
       "  </tbody>\n",
       "</table>\n",
       "<p>1180 rows × 10 columns</p>\n",
       "</div>"
      ],
      "text/plain": [
       "                                          Titles         Type  BHK   sft  \\\n",
       "0       3 BHK Apartment in Lalitha Divine County    Apartment    3  1535   \n",
       "1         3 BHK Villa in Nest Bliss In The Woods        Villa    3  4000   \n",
       "2            3 BHK Apartment in Candeur Crescent    Apartment    3  2548   \n",
       "3                3 BHK Apartment in GHR Callisto    Apartment    3  1775   \n",
       "4     3 BHK Apartment in Vazhraa Vazhraa Prathik    Apartment    3  1835   \n",
       "...                                          ...          ...  ...   ...   \n",
       "1175                    10 BHK Independent House  Independent   10  9000   \n",
       "1176                             3 BHK Apartment    Apartment    3  1670   \n",
       "1177                             3 BHK Apartment    Apartment    3  1550   \n",
       "1178                             3 BHK Apartment    Apartment    3  1360   \n",
       "1179             2 BHK Apartment in Pearl Uptown    Apartment    2  1000   \n",
       "\n",
       "      Costpersft    Prices construction_status         Location  \\\n",
       "0           4900   7521000  Under Construction         Ameenpur   \n",
       "1           8275  33100000  Under Construction       Harshaguda   \n",
       "2           7810  19900000  Under Construction  Serilingampally   \n",
       "3           5199   9228000  Under Construction           Kollur   \n",
       "4           6500  11900000  Under Construction         Nizampet   \n",
       "...          ...       ...                 ...              ...   \n",
       "1175        7222  65000000       Ready to move         Madhapur   \n",
       "1176       10000  16700000       Ready to move         Madhapur   \n",
       "1177       10004  15500000       Ready to move         Madhapur   \n",
       "1178        6617   9000000       Ready to move         Madhapur   \n",
       "1179        4350   4350000       Ready to move           Kowkur   \n",
       "\n",
       "                                      seller_info    Handover  \n",
       "0     Lalitha Construction and DevelopersBUILDER0    Jan 2023  \n",
       "1                             Nest MakersBUILDER0    Sep 2024  \n",
       "2         Candeur Developers And BuildersBUILDER0    Dec 2025  \n",
       "3                               GHR InfraBUILDER0    Nov 2025  \n",
       "4                 Vazhraa Nirmaan Pvt LtdBUILDER0    Apr 2023  \n",
       "...                                           ...         ...  \n",
       "1175         Sahara Real Estate ConsultantsAGENT0         NaN  \n",
       "1176         Sahara Real Estate ConsultantsAGENT0         NaN  \n",
       "1177         Sahara Real Estate ConsultantsAGENT0         NaN  \n",
       "1178         Sahara Real Estate ConsultantsAGENT0         NaN  \n",
       "1179                           Vikram ReddyAGENT0  1 year old  \n",
       "\n",
       "[1180 rows x 10 columns]"
      ]
     },
     "execution_count": 131,
     "metadata": {},
     "output_type": "execute_result"
    }
   ],
   "source": [
    "df"
   ]
  },
  {
   "cell_type": "code",
   "execution_count": 132,
   "id": "cd6ba08b",
   "metadata": {},
   "outputs": [
    {
     "data": {
      "text/plain": [
       "3     465\n",
       "2     361\n",
       "4      84\n",
       "5      46\n",
       "24     17\n",
       "     ... \n",
       "84      1\n",
       "48      1\n",
       "95      1\n",
       "16      1\n",
       "40      1\n",
       "Name: BHK, Length: 62, dtype: int64"
      ]
     },
     "execution_count": 132,
     "metadata": {},
     "output_type": "execute_result"
    }
   ],
   "source": [
    "df.BHK.value_counts()"
   ]
  },
  {
   "cell_type": "markdown",
   "id": "557bbc8d",
   "metadata": {},
   "source": [
    " - Just by looking at the BHK data we can tell BHK data is not accurate.\n",
    " - If we drop Residential plot columns we are getting accurate BHK data.\n",
    " - Residential plot is just an open area or a land which is used for any purpose like office, shops or any commercial uses, so      in that case there won't be any BHK but by default it took values which are even in decimals. So let's just fill residential    plot's BHK values as null and then fill them with BHK values depending on the sft of that plot, and by assuming if a house is    built there, then how many BHK's it would consist of.\n",
    " - Then it would be easy to analyse the data."
   ]
  },
  {
   "cell_type": "code",
   "execution_count": 133,
   "id": "7fb2d2b9",
   "metadata": {},
   "outputs": [],
   "source": [
    "s = df[df.Type.isin([\"Residential Plot\"])].index.tolist()\n",
    "for ind in s:\n",
    "    df.iloc[ind,2] = np.NaN"
   ]
  },
  {
   "cell_type": "code",
   "execution_count": 135,
   "id": "c16c6262",
   "metadata": {},
   "outputs": [
    {
     "data": {
      "text/plain": [
       "3.0     461\n",
       "2.0     357\n",
       "4.0      82\n",
       "5.0      46\n",
       "8.0       7\n",
       "6.0       6\n",
       "1.0       5\n",
       "10.0      5\n",
       "7.0       4\n",
       "9.0       2\n",
       "Name: BHK, dtype: int64"
      ]
     },
     "execution_count": 135,
     "metadata": {},
     "output_type": "execute_result"
    }
   ],
   "source": [
    "df.BHK.value_counts()"
   ]
  },
  {
   "cell_type": "code",
   "execution_count": 1,
   "id": "e7aca4b8",
   "metadata": {},
   "outputs": [],
   "source": [
    "#Here we are just dropping the duplicate values of the data in dataframe"
   ]
  },
  {
   "cell_type": "code",
   "execution_count": 136,
   "id": "656d8d30",
   "metadata": {},
   "outputs": [],
   "source": [
    "df.drop_duplicates(inplace = True)"
   ]
  },
  {
   "cell_type": "code",
   "execution_count": 137,
   "id": "59b59ed3",
   "metadata": {},
   "outputs": [
    {
     "data": {
      "text/html": [
       "<div>\n",
       "<style scoped>\n",
       "    .dataframe tbody tr th:only-of-type {\n",
       "        vertical-align: middle;\n",
       "    }\n",
       "\n",
       "    .dataframe tbody tr th {\n",
       "        vertical-align: top;\n",
       "    }\n",
       "\n",
       "    .dataframe thead th {\n",
       "        text-align: right;\n",
       "    }\n",
       "</style>\n",
       "<table border=\"1\" class=\"dataframe\">\n",
       "  <thead>\n",
       "    <tr style=\"text-align: right;\">\n",
       "      <th></th>\n",
       "      <th>Titles</th>\n",
       "      <th>Type</th>\n",
       "      <th>BHK</th>\n",
       "      <th>sft</th>\n",
       "      <th>Costpersft</th>\n",
       "      <th>Prices</th>\n",
       "      <th>construction_status</th>\n",
       "      <th>Location</th>\n",
       "      <th>seller_info</th>\n",
       "      <th>Handover</th>\n",
       "    </tr>\n",
       "  </thead>\n",
       "  <tbody>\n",
       "    <tr>\n",
       "      <th>0</th>\n",
       "      <td>3 BHK Apartment in Lalitha Divine County</td>\n",
       "      <td>Apartment</td>\n",
       "      <td>3.0</td>\n",
       "      <td>1535</td>\n",
       "      <td>4900</td>\n",
       "      <td>7521000</td>\n",
       "      <td>Under Construction</td>\n",
       "      <td>Ameenpur</td>\n",
       "      <td>Lalitha Construction and DevelopersBUILDER0</td>\n",
       "      <td>Jan 2023</td>\n",
       "    </tr>\n",
       "    <tr>\n",
       "      <th>1</th>\n",
       "      <td>3 BHK Villa in Nest Bliss In The Woods</td>\n",
       "      <td>Villa</td>\n",
       "      <td>3.0</td>\n",
       "      <td>4000</td>\n",
       "      <td>8275</td>\n",
       "      <td>33100000</td>\n",
       "      <td>Under Construction</td>\n",
       "      <td>Harshaguda</td>\n",
       "      <td>Nest MakersBUILDER0</td>\n",
       "      <td>Sep 2024</td>\n",
       "    </tr>\n",
       "    <tr>\n",
       "      <th>2</th>\n",
       "      <td>3 BHK Apartment in Candeur Crescent</td>\n",
       "      <td>Apartment</td>\n",
       "      <td>3.0</td>\n",
       "      <td>2548</td>\n",
       "      <td>7810</td>\n",
       "      <td>19900000</td>\n",
       "      <td>Under Construction</td>\n",
       "      <td>Serilingampally</td>\n",
       "      <td>Candeur Developers And BuildersBUILDER0</td>\n",
       "      <td>Dec 2025</td>\n",
       "    </tr>\n",
       "    <tr>\n",
       "      <th>3</th>\n",
       "      <td>3 BHK Apartment in GHR Callisto</td>\n",
       "      <td>Apartment</td>\n",
       "      <td>3.0</td>\n",
       "      <td>1775</td>\n",
       "      <td>5199</td>\n",
       "      <td>9228000</td>\n",
       "      <td>Under Construction</td>\n",
       "      <td>Kollur</td>\n",
       "      <td>GHR InfraBUILDER0</td>\n",
       "      <td>Nov 2025</td>\n",
       "    </tr>\n",
       "    <tr>\n",
       "      <th>4</th>\n",
       "      <td>3 BHK Apartment in Vazhraa Vazhraa Prathik</td>\n",
       "      <td>Apartment</td>\n",
       "      <td>3.0</td>\n",
       "      <td>1835</td>\n",
       "      <td>6500</td>\n",
       "      <td>11900000</td>\n",
       "      <td>Under Construction</td>\n",
       "      <td>Nizampet</td>\n",
       "      <td>Vazhraa Nirmaan Pvt LtdBUILDER0</td>\n",
       "      <td>Apr 2023</td>\n",
       "    </tr>\n",
       "    <tr>\n",
       "      <th>...</th>\n",
       "      <td>...</td>\n",
       "      <td>...</td>\n",
       "      <td>...</td>\n",
       "      <td>...</td>\n",
       "      <td>...</td>\n",
       "      <td>...</td>\n",
       "      <td>...</td>\n",
       "      <td>...</td>\n",
       "      <td>...</td>\n",
       "      <td>...</td>\n",
       "    </tr>\n",
       "    <tr>\n",
       "      <th>1175</th>\n",
       "      <td>10 BHK Independent House</td>\n",
       "      <td>Independent</td>\n",
       "      <td>10.0</td>\n",
       "      <td>9000</td>\n",
       "      <td>7222</td>\n",
       "      <td>65000000</td>\n",
       "      <td>Ready to move</td>\n",
       "      <td>Madhapur</td>\n",
       "      <td>Sahara Real Estate ConsultantsAGENT0</td>\n",
       "      <td>NaN</td>\n",
       "    </tr>\n",
       "    <tr>\n",
       "      <th>1176</th>\n",
       "      <td>3 BHK Apartment</td>\n",
       "      <td>Apartment</td>\n",
       "      <td>3.0</td>\n",
       "      <td>1670</td>\n",
       "      <td>10000</td>\n",
       "      <td>16700000</td>\n",
       "      <td>Ready to move</td>\n",
       "      <td>Madhapur</td>\n",
       "      <td>Sahara Real Estate ConsultantsAGENT0</td>\n",
       "      <td>NaN</td>\n",
       "    </tr>\n",
       "    <tr>\n",
       "      <th>1177</th>\n",
       "      <td>3 BHK Apartment</td>\n",
       "      <td>Apartment</td>\n",
       "      <td>3.0</td>\n",
       "      <td>1550</td>\n",
       "      <td>10004</td>\n",
       "      <td>15500000</td>\n",
       "      <td>Ready to move</td>\n",
       "      <td>Madhapur</td>\n",
       "      <td>Sahara Real Estate ConsultantsAGENT0</td>\n",
       "      <td>NaN</td>\n",
       "    </tr>\n",
       "    <tr>\n",
       "      <th>1178</th>\n",
       "      <td>3 BHK Apartment</td>\n",
       "      <td>Apartment</td>\n",
       "      <td>3.0</td>\n",
       "      <td>1360</td>\n",
       "      <td>6617</td>\n",
       "      <td>9000000</td>\n",
       "      <td>Ready to move</td>\n",
       "      <td>Madhapur</td>\n",
       "      <td>Sahara Real Estate ConsultantsAGENT0</td>\n",
       "      <td>NaN</td>\n",
       "    </tr>\n",
       "    <tr>\n",
       "      <th>1179</th>\n",
       "      <td>2 BHK Apartment in Pearl Uptown</td>\n",
       "      <td>Apartment</td>\n",
       "      <td>2.0</td>\n",
       "      <td>1000</td>\n",
       "      <td>4350</td>\n",
       "      <td>4350000</td>\n",
       "      <td>Ready to move</td>\n",
       "      <td>Kowkur</td>\n",
       "      <td>Vikram ReddyAGENT0</td>\n",
       "      <td>1 year old</td>\n",
       "    </tr>\n",
       "  </tbody>\n",
       "</table>\n",
       "<p>1020 rows × 10 columns</p>\n",
       "</div>"
      ],
      "text/plain": [
       "                                          Titles         Type   BHK   sft  \\\n",
       "0       3 BHK Apartment in Lalitha Divine County    Apartment   3.0  1535   \n",
       "1         3 BHK Villa in Nest Bliss In The Woods        Villa   3.0  4000   \n",
       "2            3 BHK Apartment in Candeur Crescent    Apartment   3.0  2548   \n",
       "3                3 BHK Apartment in GHR Callisto    Apartment   3.0  1775   \n",
       "4     3 BHK Apartment in Vazhraa Vazhraa Prathik    Apartment   3.0  1835   \n",
       "...                                          ...          ...   ...   ...   \n",
       "1175                    10 BHK Independent House  Independent  10.0  9000   \n",
       "1176                             3 BHK Apartment    Apartment   3.0  1670   \n",
       "1177                             3 BHK Apartment    Apartment   3.0  1550   \n",
       "1178                             3 BHK Apartment    Apartment   3.0  1360   \n",
       "1179             2 BHK Apartment in Pearl Uptown    Apartment   2.0  1000   \n",
       "\n",
       "      Costpersft    Prices construction_status         Location  \\\n",
       "0           4900   7521000  Under Construction         Ameenpur   \n",
       "1           8275  33100000  Under Construction       Harshaguda   \n",
       "2           7810  19900000  Under Construction  Serilingampally   \n",
       "3           5199   9228000  Under Construction           Kollur   \n",
       "4           6500  11900000  Under Construction         Nizampet   \n",
       "...          ...       ...                 ...              ...   \n",
       "1175        7222  65000000       Ready to move         Madhapur   \n",
       "1176       10000  16700000       Ready to move         Madhapur   \n",
       "1177       10004  15500000       Ready to move         Madhapur   \n",
       "1178        6617   9000000       Ready to move         Madhapur   \n",
       "1179        4350   4350000       Ready to move           Kowkur   \n",
       "\n",
       "                                      seller_info    Handover  \n",
       "0     Lalitha Construction and DevelopersBUILDER0    Jan 2023  \n",
       "1                             Nest MakersBUILDER0    Sep 2024  \n",
       "2         Candeur Developers And BuildersBUILDER0    Dec 2025  \n",
       "3                               GHR InfraBUILDER0    Nov 2025  \n",
       "4                 Vazhraa Nirmaan Pvt LtdBUILDER0    Apr 2023  \n",
       "...                                           ...         ...  \n",
       "1175         Sahara Real Estate ConsultantsAGENT0         NaN  \n",
       "1176         Sahara Real Estate ConsultantsAGENT0         NaN  \n",
       "1177         Sahara Real Estate ConsultantsAGENT0         NaN  \n",
       "1178         Sahara Real Estate ConsultantsAGENT0         NaN  \n",
       "1179                           Vikram ReddyAGENT0  1 year old  \n",
       "\n",
       "[1020 rows x 10 columns]"
      ]
     },
     "execution_count": 137,
     "metadata": {},
     "output_type": "execute_result"
    }
   ],
   "source": [
    "df"
   ]
  },
  {
   "cell_type": "code",
   "execution_count": 144,
   "id": "d4a50abb",
   "metadata": {},
   "outputs": [
    {
     "data": {
      "text/plain": [
       "Unnamed: 0               0\n",
       "Titles                   0\n",
       "Type                     0\n",
       "BHK                    166\n",
       "sft                      0\n",
       "Costpersft               0\n",
       "Prices                   0\n",
       "construction_status      0\n",
       "Location                 0\n",
       "seller_info              0\n",
       "Handover               449\n",
       "dtype: int64"
      ]
     },
     "execution_count": 144,
     "metadata": {},
     "output_type": "execute_result"
    }
   ],
   "source": [
    "df.isna().sum()"
   ]
  },
  {
   "cell_type": "markdown",
   "id": "d3721aed",
   "metadata": {},
   "source": [
    " - Here first we are filling the null values of the handover column.\n",
    " - If we are just filling the null values with mode of the handover column itself, when we compare it with construction_status      column values are inaccurate\n",
    " - Eg : We are getting \"6 years old\" handover value for constuction_status which is \"Under Construction\" which clearly is          incorrect\n",
    " - So, We are grouping the constuction status and taking the mode then filling it with null values of handover column"
   ]
  },
  {
   "cell_type": "code",
   "execution_count": 147,
   "id": "0b9f4a38",
   "metadata": {},
   "outputs": [
    {
     "data": {
      "text/plain": [
       "0    6 years old\n",
       "dtype: object"
      ]
     },
     "execution_count": 147,
     "metadata": {},
     "output_type": "execute_result"
    }
   ],
   "source": [
    "s = df[df.construction_status.isin([\"Ready to move\"])]\n",
    "s[\"Handover\"].mode()"
   ]
  },
  {
   "cell_type": "code",
   "execution_count": 150,
   "id": "2e3e7e3e",
   "metadata": {},
   "outputs": [],
   "source": [
    "s1 = s[s.Handover.isin([np.NaN])].index.tolist()\n",
    "for ind in s1:\n",
    "    df.iloc[ind,10] =\"6 years old\""
   ]
  },
  {
   "cell_type": "code",
   "execution_count": 155,
   "id": "586e6c1f",
   "metadata": {},
   "outputs": [
    {
     "data": {
      "text/plain": [
       "0    Nov 2023\n",
       "dtype: object"
      ]
     },
     "execution_count": 155,
     "metadata": {},
     "output_type": "execute_result"
    }
   ],
   "source": [
    "k = df[df.construction_status.isin([\"Under Construction\"])]\n",
    "k[\"Handover\"].mode()"
   ]
  },
  {
   "cell_type": "code",
   "execution_count": 157,
   "id": "c8457824",
   "metadata": {},
   "outputs": [],
   "source": [
    "k1 = k[k.Handover.isin([np.NaN])].index.tolist()\n",
    "for ind in k1:\n",
    "    df.iloc[ind,10] =\"Nov 2023\""
   ]
  },
  {
   "cell_type": "code",
   "execution_count": 161,
   "id": "82444485",
   "metadata": {},
   "outputs": [
    {
     "data": {
      "text/plain": [
       "0    4 years old\n",
       "dtype: object"
      ]
     },
     "execution_count": 161,
     "metadata": {},
     "output_type": "execute_result"
    }
   ],
   "source": [
    "h = df[df.construction_status.isin([\"Resale\"])]\n",
    "h[\"Handover\"].mode()"
   ]
  },
  {
   "cell_type": "code",
   "execution_count": 163,
   "id": "55988b2f",
   "metadata": {},
   "outputs": [],
   "source": [
    "h1 = h[h.Handover.isin([np.NaN])].index.tolist()\n",
    "for ind in h1:\n",
    "    df.iloc[ind,10] =\"4 years old\""
   ]
  },
  {
   "cell_type": "code",
   "execution_count": 167,
   "id": "7c5f0bba",
   "metadata": {},
   "outputs": [
    {
     "data": {
      "text/plain": [
       "0    1 year old\n",
       "dtype: object"
      ]
     },
     "execution_count": 167,
     "metadata": {},
     "output_type": "execute_result"
    }
   ],
   "source": [
    "l = df[df.construction_status.isin([\"New\"])]\n",
    "l[\"Handover\"].mode()"
   ]
  },
  {
   "cell_type": "code",
   "execution_count": 170,
   "id": "6d5d3c56",
   "metadata": {},
   "outputs": [],
   "source": [
    "l1 = l[l.Handover.isin([np.NaN])].index.tolist()\n",
    "for ind in l1:\n",
    "    df.iloc[ind,10] =\"1 year old\""
   ]
  },
  {
   "cell_type": "code",
   "execution_count": 172,
   "id": "1a153271",
   "metadata": {},
   "outputs": [
    {
     "data": {
      "text/plain": [
       "Unnamed: 0               0\n",
       "Titles                   0\n",
       "Type                     0\n",
       "BHK                    166\n",
       "sft                      0\n",
       "Costpersft               0\n",
       "Prices                   0\n",
       "construction_status      0\n",
       "Location                 0\n",
       "seller_info              0\n",
       "Handover                 0\n",
       "dtype: int64"
      ]
     },
     "execution_count": 172,
     "metadata": {},
     "output_type": "execute_result"
    }
   ],
   "source": [
    "df.isna().sum()"
   ]
  },
  {
   "cell_type": "markdown",
   "id": "dbd05e1c",
   "metadata": {},
   "source": [
    "- Hence handover column null values are filled accurately. \n",
    "- Then we started sorting BHK values based on the sft ranges"
   ]
  },
  {
   "cell_type": "code",
   "execution_count": 179,
   "id": "30f11f93",
   "metadata": {},
   "outputs": [
    {
     "data": {
      "text/plain": [
       "0    1.0\n",
       "dtype: float64"
      ]
     },
     "execution_count": 179,
     "metadata": {},
     "output_type": "execute_result"
    }
   ],
   "source": [
    "s = df[(df.sft > 100) & (df.sft <500)]\n",
    "s[\"BHK\"].mode()"
   ]
  },
  {
   "cell_type": "code",
   "execution_count": 182,
   "id": "d6e4ec8d",
   "metadata": {},
   "outputs": [],
   "source": [
    "s1 = s[s.BHK.isin([np.NaN])].index.tolist()\n",
    "for ind in s1:\n",
    "    df.iloc[ind,4] = 1.0"
   ]
  },
  {
   "cell_type": "code",
   "execution_count": 186,
   "id": "21cacec6",
   "metadata": {},
   "outputs": [
    {
     "data": {
      "text/plain": [
       "0    2.0\n",
       "dtype: float64"
      ]
     },
     "execution_count": 186,
     "metadata": {},
     "output_type": "execute_result"
    }
   ],
   "source": [
    "k = df[(df.sft > 500) & (df.sft <1000)]\n",
    "k[\"BHK\"].mode()"
   ]
  },
  {
   "cell_type": "code",
   "execution_count": 189,
   "id": "5ab2b148",
   "metadata": {},
   "outputs": [],
   "source": [
    "k1 = k[k.BHK.isin([np.NaN])].index.tolist()\n",
    "for ind in k1:\n",
    "    df.iloc[ind,4] = 2.0"
   ]
  },
  {
   "cell_type": "code",
   "execution_count": 193,
   "id": "d4b9d274",
   "metadata": {},
   "outputs": [
    {
     "data": {
      "text/plain": [
       "0    3.0\n",
       "dtype: float64"
      ]
     },
     "execution_count": 193,
     "metadata": {},
     "output_type": "execute_result"
    }
   ],
   "source": [
    "l = df[(df.sft > 1000) & (df.sft <=2000)]\n",
    "l[\"BHK\"].mode()"
   ]
  },
  {
   "cell_type": "code",
   "execution_count": 196,
   "id": "1953685c",
   "metadata": {},
   "outputs": [],
   "source": [
    "l1 = l[l.BHK.isin([np.NaN])].index.tolist()\n",
    "for ind in l1:\n",
    "    df.iloc[ind,4] = 3.0"
   ]
  },
  {
   "cell_type": "code",
   "execution_count": 199,
   "id": "829e8cbf",
   "metadata": {},
   "outputs": [
    {
     "data": {
      "text/plain": [
       "0    3.0\n",
       "dtype: float64"
      ]
     },
     "execution_count": 199,
     "metadata": {},
     "output_type": "execute_result"
    }
   ],
   "source": [
    "h = df[(df.sft > 2000) & (df.sft <3000)]\n",
    "h[\"BHK\"].mode()"
   ]
  },
  {
   "cell_type": "code",
   "execution_count": 202,
   "id": "4c140843",
   "metadata": {},
   "outputs": [],
   "source": [
    "h1 = h[h.BHK.isin([np.NaN])].index.tolist()\n",
    "for ind in h1:\n",
    "    df.iloc[ind,4] = 3.0"
   ]
  },
  {
   "cell_type": "code",
   "execution_count": 206,
   "id": "8fa14aed",
   "metadata": {},
   "outputs": [
    {
     "data": {
      "text/plain": [
       "0    4.0\n",
       "dtype: float64"
      ]
     },
     "execution_count": 206,
     "metadata": {},
     "output_type": "execute_result"
    }
   ],
   "source": [
    "h = df[(df.sft > 3000) & (df.sft <5000)]\n",
    "h[\"BHK\"].mode()"
   ]
  },
  {
   "cell_type": "code",
   "execution_count": 209,
   "id": "17ec0cee",
   "metadata": {},
   "outputs": [],
   "source": [
    "h1 = h[h.BHK.isin([np.NaN])].index.tolist()\n",
    "for ind in h1:\n",
    "    df.iloc[ind,4] = 4.0"
   ]
  },
  {
   "cell_type": "code",
   "execution_count": 213,
   "id": "0c16c6e4",
   "metadata": {},
   "outputs": [
    {
     "data": {
      "text/plain": [
       "0    5.0\n",
       "dtype: float64"
      ]
     },
     "execution_count": 213,
     "metadata": {},
     "output_type": "execute_result"
    }
   ],
   "source": [
    "i = df[(df.sft > 5000) & (df.sft <10000)]\n",
    "i[\"BHK\"].mode()"
   ]
  },
  {
   "cell_type": "code",
   "execution_count": 216,
   "id": "11f1ed1f",
   "metadata": {},
   "outputs": [],
   "source": [
    "i1 = i[i.BHK.isin([np.NaN])].index.tolist()\n",
    "for ind in i1:\n",
    "    df.iloc[ind,4] = 5.0"
   ]
  },
  {
   "cell_type": "code",
   "execution_count": 220,
   "id": "07a991f5",
   "metadata": {},
   "outputs": [],
   "source": [
    "s = df[(df.sft > 10000) & (df.sft <20000)]\n",
    "s1 = s.index.tolist()"
   ]
  },
  {
   "cell_type": "code",
   "execution_count": 222,
   "id": "409d6c8f",
   "metadata": {},
   "outputs": [],
   "source": [
    "#All the values of this sft range are null, Hence we are just dropping the rows which are of this range\n",
    "df.drop(s1,inplace = True)"
   ]
  },
  {
   "cell_type": "code",
   "execution_count": 226,
   "id": "eaf582eb",
   "metadata": {},
   "outputs": [
    {
     "data": {
      "text/plain": [
       "Unnamed: 0             0\n",
       "Unnamed: 0.1           0\n",
       "Titles                 0\n",
       "Type                   0\n",
       "BHK                    0\n",
       "sft                    0\n",
       "Costpersft             0\n",
       "Prices                 0\n",
       "construction_status    0\n",
       "Location               0\n",
       "seller_info            0\n",
       "Handover               0\n",
       "dtype: int64"
      ]
     },
     "execution_count": 226,
     "metadata": {},
     "output_type": "execute_result"
    }
   ],
   "source": [
    "df.isna().sum()"
   ]
  },
  {
   "cell_type": "markdown",
   "id": "913e24c7",
   "metadata": {},
   "source": [
    "Hence, All the null values and inaccurate values are filled accurately"
   ]
  },
  {
   "cell_type": "code",
   "execution_count": 6,
   "id": "3d806d97",
   "metadata": {},
   "outputs": [
    {
     "data": {
      "text/plain": [
       "Titles                  object\n",
       "Type                    object\n",
       "BHK                    float64\n",
       "sft                      int64\n",
       "Costpersft               int64\n",
       "Prices                   int64\n",
       "construction_status     object\n",
       "Location                object\n",
       "seller_info             object\n",
       "Handover                object\n",
       "dtype: object"
      ]
     },
     "execution_count": 6,
     "metadata": {},
     "output_type": "execute_result"
    }
   ],
   "source": [
    "df.dtypes"
   ]
  },
  {
   "cell_type": "markdown",
   "id": "326f9aec",
   "metadata": {},
   "source": [
    "We are converting the type of BHK column from float to int"
   ]
  },
  {
   "cell_type": "code",
   "execution_count": 22,
   "id": "9e973022",
   "metadata": {},
   "outputs": [],
   "source": [
    "df['BHK'] = df['BHK'].astype(int)"
   ]
  },
  {
   "cell_type": "code",
   "execution_count": 20,
   "id": "a5ae4c8b",
   "metadata": {},
   "outputs": [],
   "source": [
    "#we are dropping titles column after extracting the required information from it\n",
    "df.drop([\"Titles\"],axis = 1,inplace = True)"
   ]
  },
  {
   "cell_type": "markdown",
   "id": "79106d8a",
   "metadata": {},
   "source": [
    "Then we are dividing the seller_info column into 2 columns by using regular expressions"
   ]
  },
  {
   "cell_type": "code",
   "execution_count": 8,
   "id": "7afdbfbb",
   "metadata": {},
   "outputs": [],
   "source": [
    "s = []\n",
    "k = []\n",
    "for i in df[\"seller_info\"]:\n",
    "    if \"OWNER\" in i:\n",
    "        a = re.findall(r\"OWNER\",i)\n",
    "        k.append(i.split(\"OWNER\")[0])\n",
    "        s.append(a[0])\n",
    "    if \"AGENT\" in i:\n",
    "        a = re.findall(r\"AGENT\",i)\n",
    "        k.append(i.split(\"AGENT\")[0])\n",
    "        s.append(a[0])\n",
    "    if \"BUILDER\" in i:\n",
    "        a = re.findall(r\"BUILDER\",i)\n",
    "        k.append(i.split(\"BUILDER\")[0])\n",
    "        s.append(a[0])"
   ]
  },
  {
   "cell_type": "code",
   "execution_count": 9,
   "id": "3cf6db41",
   "metadata": {},
   "outputs": [],
   "source": [
    "df[\"seller\"] = s"
   ]
  },
  {
   "cell_type": "code",
   "execution_count": 10,
   "id": "9e2d4f9d",
   "metadata": {},
   "outputs": [],
   "source": [
    "df[\"seller_info\"] = k"
   ]
  },
  {
   "cell_type": "markdown",
   "id": "7d45040c",
   "metadata": {},
   "source": [
    "This is the final data frame after cleaning the data ."
   ]
  },
  {
   "cell_type": "code",
   "execution_count": 45,
   "id": "070310ca",
   "metadata": {},
   "outputs": [
    {
     "data": {
      "text/html": [
       "<div>\n",
       "<style scoped>\n",
       "    .dataframe tbody tr th:only-of-type {\n",
       "        vertical-align: middle;\n",
       "    }\n",
       "\n",
       "    .dataframe tbody tr th {\n",
       "        vertical-align: top;\n",
       "    }\n",
       "\n",
       "    .dataframe thead th {\n",
       "        text-align: right;\n",
       "    }\n",
       "</style>\n",
       "<table border=\"1\" class=\"dataframe\">\n",
       "  <thead>\n",
       "    <tr style=\"text-align: right;\">\n",
       "      <th></th>\n",
       "      <th>Type</th>\n",
       "      <th>BHK</th>\n",
       "      <th>sft</th>\n",
       "      <th>Costpersft</th>\n",
       "      <th>Prices</th>\n",
       "      <th>construction_status</th>\n",
       "      <th>Location</th>\n",
       "      <th>seller_info</th>\n",
       "      <th>Handover</th>\n",
       "      <th>seller</th>\n",
       "    </tr>\n",
       "  </thead>\n",
       "  <tbody>\n",
       "    <tr>\n",
       "      <th>0</th>\n",
       "      <td>Apartment</td>\n",
       "      <td>3</td>\n",
       "      <td>1535</td>\n",
       "      <td>4900</td>\n",
       "      <td>7521000</td>\n",
       "      <td>Under Construction</td>\n",
       "      <td>Ameenpur</td>\n",
       "      <td>Lalitha Construction and Developers</td>\n",
       "      <td>Jan 2023</td>\n",
       "      <td>BUILDER</td>\n",
       "    </tr>\n",
       "    <tr>\n",
       "      <th>1</th>\n",
       "      <td>Villa</td>\n",
       "      <td>3</td>\n",
       "      <td>1575</td>\n",
       "      <td>8275</td>\n",
       "      <td>8400000</td>\n",
       "      <td>Under Construction</td>\n",
       "      <td>Harshaguda</td>\n",
       "      <td>Nest Makers</td>\n",
       "      <td>Sep 2024</td>\n",
       "      <td>BUILDER</td>\n",
       "    </tr>\n",
       "    <tr>\n",
       "      <th>2</th>\n",
       "      <td>Apartment</td>\n",
       "      <td>3</td>\n",
       "      <td>2548</td>\n",
       "      <td>7810</td>\n",
       "      <td>19900000</td>\n",
       "      <td>Under Construction</td>\n",
       "      <td>Serilingampally</td>\n",
       "      <td>Candeur Developers And Builders</td>\n",
       "      <td>Dec 2025</td>\n",
       "      <td>BUILDER</td>\n",
       "    </tr>\n",
       "    <tr>\n",
       "      <th>3</th>\n",
       "      <td>Apartment</td>\n",
       "      <td>3</td>\n",
       "      <td>1775</td>\n",
       "      <td>5199</td>\n",
       "      <td>9228000</td>\n",
       "      <td>Under Construction</td>\n",
       "      <td>Kollur</td>\n",
       "      <td>GHR Infra</td>\n",
       "      <td>Nov 2025</td>\n",
       "      <td>BUILDER</td>\n",
       "    </tr>\n",
       "    <tr>\n",
       "      <th>4</th>\n",
       "      <td>Apartment</td>\n",
       "      <td>3</td>\n",
       "      <td>1835</td>\n",
       "      <td>6500</td>\n",
       "      <td>11900000</td>\n",
       "      <td>Under Construction</td>\n",
       "      <td>Nizampet</td>\n",
       "      <td>Vazhraa Nirmaan Pvt Ltd</td>\n",
       "      <td>Apr 2023</td>\n",
       "      <td>BUILDER</td>\n",
       "    </tr>\n",
       "    <tr>\n",
       "      <th>...</th>\n",
       "      <td>...</td>\n",
       "      <td>...</td>\n",
       "      <td>...</td>\n",
       "      <td>...</td>\n",
       "      <td>...</td>\n",
       "      <td>...</td>\n",
       "      <td>...</td>\n",
       "      <td>...</td>\n",
       "      <td>...</td>\n",
       "      <td>...</td>\n",
       "    </tr>\n",
       "    <tr>\n",
       "      <th>1003</th>\n",
       "      <td>Independent</td>\n",
       "      <td>3</td>\n",
       "      <td>1575</td>\n",
       "      <td>7222</td>\n",
       "      <td>8400000</td>\n",
       "      <td>Ready to move</td>\n",
       "      <td>Madhapur</td>\n",
       "      <td>Sahara Real Estate Consultants</td>\n",
       "      <td>6 years old</td>\n",
       "      <td>AGENT</td>\n",
       "    </tr>\n",
       "    <tr>\n",
       "      <th>1004</th>\n",
       "      <td>Apartment</td>\n",
       "      <td>3</td>\n",
       "      <td>1670</td>\n",
       "      <td>10000</td>\n",
       "      <td>16700000</td>\n",
       "      <td>Ready to move</td>\n",
       "      <td>Madhapur</td>\n",
       "      <td>Sahara Real Estate Consultants</td>\n",
       "      <td>6 years old</td>\n",
       "      <td>AGENT</td>\n",
       "    </tr>\n",
       "    <tr>\n",
       "      <th>1005</th>\n",
       "      <td>Apartment</td>\n",
       "      <td>3</td>\n",
       "      <td>1550</td>\n",
       "      <td>10004</td>\n",
       "      <td>15500000</td>\n",
       "      <td>Ready to move</td>\n",
       "      <td>Madhapur</td>\n",
       "      <td>Sahara Real Estate Consultants</td>\n",
       "      <td>6 years old</td>\n",
       "      <td>AGENT</td>\n",
       "    </tr>\n",
       "    <tr>\n",
       "      <th>1006</th>\n",
       "      <td>Apartment</td>\n",
       "      <td>3</td>\n",
       "      <td>1360</td>\n",
       "      <td>6617</td>\n",
       "      <td>9000000</td>\n",
       "      <td>Ready to move</td>\n",
       "      <td>Madhapur</td>\n",
       "      <td>Sahara Real Estate Consultants</td>\n",
       "      <td>6 years old</td>\n",
       "      <td>AGENT</td>\n",
       "    </tr>\n",
       "    <tr>\n",
       "      <th>1007</th>\n",
       "      <td>Apartment</td>\n",
       "      <td>2</td>\n",
       "      <td>1000</td>\n",
       "      <td>4350</td>\n",
       "      <td>4350000</td>\n",
       "      <td>Ready to move</td>\n",
       "      <td>Kowkur</td>\n",
       "      <td>Vikram Reddy</td>\n",
       "      <td>1 year old</td>\n",
       "      <td>AGENT</td>\n",
       "    </tr>\n",
       "  </tbody>\n",
       "</table>\n",
       "<p>1008 rows × 10 columns</p>\n",
       "</div>"
      ],
      "text/plain": [
       "             Type  BHK   sft  Costpersft    Prices construction_status  \\\n",
       "0       Apartment    3  1535        4900   7521000  Under Construction   \n",
       "1           Villa    3  1575        8275   8400000  Under Construction   \n",
       "2       Apartment    3  2548        7810  19900000  Under Construction   \n",
       "3       Apartment    3  1775        5199   9228000  Under Construction   \n",
       "4       Apartment    3  1835        6500  11900000  Under Construction   \n",
       "...           ...  ...   ...         ...       ...                 ...   \n",
       "1003  Independent    3  1575        7222   8400000       Ready to move   \n",
       "1004    Apartment    3  1670       10000  16700000       Ready to move   \n",
       "1005    Apartment    3  1550       10004  15500000       Ready to move   \n",
       "1006    Apartment    3  1360        6617   9000000       Ready to move   \n",
       "1007    Apartment    2  1000        4350   4350000       Ready to move   \n",
       "\n",
       "             Location                          seller_info     Handover  \\\n",
       "0            Ameenpur  Lalitha Construction and Developers     Jan 2023   \n",
       "1          Harshaguda                          Nest Makers     Sep 2024   \n",
       "2     Serilingampally      Candeur Developers And Builders     Dec 2025   \n",
       "3              Kollur                            GHR Infra     Nov 2025   \n",
       "4            Nizampet              Vazhraa Nirmaan Pvt Ltd     Apr 2023   \n",
       "...               ...                                  ...          ...   \n",
       "1003         Madhapur       Sahara Real Estate Consultants  6 years old   \n",
       "1004         Madhapur       Sahara Real Estate Consultants  6 years old   \n",
       "1005         Madhapur       Sahara Real Estate Consultants  6 years old   \n",
       "1006         Madhapur       Sahara Real Estate Consultants  6 years old   \n",
       "1007           Kowkur                         Vikram Reddy   1 year old   \n",
       "\n",
       "       seller  \n",
       "0     BUILDER  \n",
       "1     BUILDER  \n",
       "2     BUILDER  \n",
       "3     BUILDER  \n",
       "4     BUILDER  \n",
       "...       ...  \n",
       "1003    AGENT  \n",
       "1004    AGENT  \n",
       "1005    AGENT  \n",
       "1006    AGENT  \n",
       "1007    AGENT  \n",
       "\n",
       "[1008 rows x 10 columns]"
      ]
     },
     "execution_count": 45,
     "metadata": {},
     "output_type": "execute_result"
    }
   ],
   "source": [
    "df"
   ]
  },
  {
   "cell_type": "code",
   "execution_count": null,
   "id": "6576f234",
   "metadata": {},
   "outputs": [],
   "source": [
    "df = df.to_csv(\"hyd_cities2\")"
   ]
  },
  {
   "cell_type": "markdown",
   "id": "76739f59",
   "metadata": {},
   "source": [
    "Hence, data cleaning is done"
   ]
  }
 ],
 "metadata": {
  "kernelspec": {
   "display_name": "Python 3 (ipykernel)",
   "language": "python",
   "name": "python3"
  },
  "language_info": {
   "codemirror_mode": {
    "name": "ipython",
    "version": 3
   },
   "file_extension": ".py",
   "mimetype": "text/x-python",
   "name": "python",
   "nbconvert_exporter": "python",
   "pygments_lexer": "ipython3",
   "version": "3.9.7"
  }
 },
 "nbformat": 4,
 "nbformat_minor": 5
}
