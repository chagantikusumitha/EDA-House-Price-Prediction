{
 "cells": [
  {
   "cell_type": "markdown",
   "id": "09ca72b5",
   "metadata": {},
   "source": [
    "# Data Manipulation"
   ]
  },
  {
   "cell_type": "code",
   "execution_count": 1,
   "id": "c9d4b5c0",
   "metadata": {},
   "outputs": [],
   "source": [
    "import pandas as pd\n",
    "import seaborn as sns\n",
    "import matplotlib.pyplot as plt"
   ]
  },
  {
   "cell_type": "code",
   "execution_count": 2,
   "id": "4bc1cd88",
   "metadata": {},
   "outputs": [],
   "source": [
    "#We are reading the CSV file using Pandas\n",
    "df = pd.read_csv(\"hyd_cities2\")"
   ]
  },
  {
   "cell_type": "markdown",
   "id": "ae808025",
   "metadata": {},
   "source": [
    "First we are sorting Outliers of the data because Outliers are those which are extremely high or low values compared to the whole data.\n",
    "If outliers are not sorted it effects the whole data analysis results"
   ]
  },
  {
   "cell_type": "markdown",
   "id": "a6b476be",
   "metadata": {},
   "source": [
    " PROCEDURE of sorting outliers\n",
    " - Sorting values from low to high and checking minimum and maximum values.\n",
    " - Visualizing data with a box plot and looking for outliers.\n",
    " - Using the interquartile range to create fences for your data.\n",
    " - Using statistical procedures to identify extreme values.\n",
    " - Replacing the outliers with median values of the data"
   ]
  },
  {
   "cell_type": "code",
   "execution_count": 30,
   "id": "71ba05e3",
   "metadata": {},
   "outputs": [],
   "source": [
    "#Here, we are taking the numerical columns and sorting it's outliers\n",
    "k = df.select_dtypes(include = 'number')"
   ]
  },
  {
   "cell_type": "code",
   "execution_count": 33,
   "id": "6185ee40",
   "metadata": {},
   "outputs": [],
   "source": [
    "import warnings\n",
    "warnings.filterwarnings(\"ignore\", category=FutureWarning)"
   ]
  },
  {
   "cell_type": "code",
   "execution_count": 34,
   "id": "6e403f26",
   "metadata": {},
   "outputs": [
    {
     "data": {
      "image/png": "[encoded data removed]",
      "text/plain": [
       "<Figure size 432x288 with 1 Axes>"
      ]
     },
     "metadata": {
      "needs_background": "light"
     },
     "output_type": "display_data"
    },
    {
     "data": {
      "image/png": "[encoded data removed]",
      "text/plain": [
       "<Figure size 432x288 with 1 Axes>"
      ]
     },
     "metadata": {
      "needs_background": "light"
     },
     "output_type": "display_data"
    },
    {
     "data": {
      "image/png": "[encoded data removed]",
      "text/plain": [
       "<Figure size 432x288 with 1 Axes>"
      ]
     },
     "metadata": {
      "needs_background": "light"
     },
     "output_type": "display_data"
    },
    {
     "data": {
      "image/png": "[encoded data removed]",
      "text/plain": [
       "<Figure size 432x288 with 1 Axes>"
      ]
     },
     "metadata": {
      "needs_background": "light"
     },
     "output_type": "display_data"
    }
   ],
   "source": [
    "#Outliers can be found by plotting the box plot in the following way\n",
    "for col in k.columns.tolist():\n",
    "    sns.boxplot(k[col])\n",
    "    plt.show()"
   ]
  },
  {
   "cell_type": "markdown",
   "id": "c041d8fb",
   "metadata": {},
   "source": [
    "sorting prices column outliers"
   ]
  },
  {
   "cell_type": "code",
   "execution_count": 245,
   "id": "c7f4c92d",
   "metadata": {},
   "outputs": [],
   "source": [
    "q1 = df['Prices'].quantile(0.25)\n",
    "q2 = df['Prices'].quantile(0.50)\n",
    "q3 = df['Prices'].quantile(0.75)\n",
    "IQR1 = q3 - q1\n",
    "otn = q1 - (1.5)*IQR1\n",
    "otp = q3 + (1.5)*IQR1\n",
    "ot = df['Prices'][(df['Prices'] < otn) | (df['Prices'] > otp)]\n",
    "for ind in ot.index.tolist():\n",
    "    df.loc[ind,'Prices'] = df['Prices'].median() "
   ]
  },
  {
   "cell_type": "markdown",
   "id": "ca8c87a2",
   "metadata": {},
   "source": [
    "sorting Costpersft column outliers"
   ]
  },
  {
   "cell_type": "code",
   "execution_count": 264,
   "id": "1ca37f83",
   "metadata": {},
   "outputs": [],
   "source": [
    "q1 = df[\"Costpersft\"].quantile(0.25)\n",
    "q2 = df[\"Costpersft\"].quantile(0.50)\n",
    "q3 = df[\"Costpersft\"].quantile(0.75)\n",
    "IQR2 = q3 - q1\n",
    "otn = q1 - (1.5)*IQR2\n",
    "otp = q3 + (1.5)*IQR2\n",
    "ot = df['Costpersft'][(df['Costpersft'] < otn) | (df['Costpersft'] > otp)]\n",
    "for ind in ot.index.tolist():\n",
    "    df.loc[ind,'Costpersft'] = df['Costpersft'].median()"
   ]
  },
  {
   "cell_type": "markdown",
   "id": "3ff6e82a",
   "metadata": {},
   "source": [
    "sorting sft column outliers"
   ]
  },
  {
   "cell_type": "code",
   "execution_count": 285,
   "id": "27022030",
   "metadata": {},
   "outputs": [],
   "source": [
    "q1 = df[\"sft\"].quantile(0.25)\n",
    "q2 = df[\"sft\"].quantile(0.50)\n",
    "q3 = df[\"sft\"].quantile(0.75)\n",
    "IQR3 = q3 - q1\n",
    "otn = q1 - (1.5)*IQR3\n",
    "otp = q3 + (1.5)*IQR3\n",
    "ot = df['sft'][(df['sft'] < otn) | (df['sft'] > otp)]\n",
    "for ind in ot.index.tolist():\n",
    "    df.loc[ind,'sft'] = df['sft'].median()"
   ]
  },
  {
   "cell_type": "markdown",
   "id": "5203dce0",
   "metadata": {},
   "source": [
    "sorting BHK column outliers"
   ]
  },
  {
   "cell_type": "code",
   "execution_count": 302,
   "id": "15973b9f",
   "metadata": {},
   "outputs": [],
   "source": [
    "q1 = df[\"BHK\"].quantile(0.25)\n",
    "q2 = df[\"BHK\"].quantile(0.50)\n",
    "q3 = df[\"BHK\"].quantile(0.75)\n",
    "IQR4 = q3 - q1\n",
    "otn = q1 - (1.5)*IQR4\n",
    "otp = q3 + (1.5)*IQR4\n",
    "ot = df['BHK'][(df['BHK'] < otn) | (df['BHK'] > otp)]\n",
    "for ind in ot.index.tolist():\n",
    "    df.loc[ind,'BHK'] = df['BHK'].median()"
   ]
  },
  {
   "cell_type": "markdown",
   "id": "a083aa4a",
   "metadata": {},
   "source": [
    "- This is the final data after sorting outliers even\n",
    "- Now on this data we perform Exploratory Data Analysis"
   ]
  },
  {
   "cell_type": "code",
   "execution_count": 41,
   "id": "2ccdc9c5",
   "metadata": {},
   "outputs": [
    {
     "data": {
      "text/html": [
       "<div>\n",
       "<style scoped>\n",
       "    .dataframe tbody tr th:only-of-type {\n",
       "        vertical-align: middle;\n",
       "    }\n",
       "\n",
       "    .dataframe tbody tr th {\n",
       "        vertical-align: top;\n",
       "    }\n",
       "\n",
       "    .dataframe thead th {\n",
       "        text-align: right;\n",
       "    }\n",
       "</style>\n",
       "<table border=\"1\" class=\"dataframe\">\n",
       "  <thead>\n",
       "    <tr style=\"text-align: right;\">\n",
       "      <th></th>\n",
       "      <th>Type</th>\n",
       "      <th>BHK</th>\n",
       "      <th>sft</th>\n",
       "      <th>Costpersft</th>\n",
       "      <th>Prices</th>\n",
       "      <th>construction_status</th>\n",
       "      <th>Location</th>\n",
       "      <th>seller_info</th>\n",
       "      <th>Handover</th>\n",
       "      <th>seller</th>\n",
       "    </tr>\n",
       "  </thead>\n",
       "  <tbody>\n",
       "    <tr>\n",
       "      <th>0</th>\n",
       "      <td>Apartment</td>\n",
       "      <td>3</td>\n",
       "      <td>1535</td>\n",
       "      <td>4900</td>\n",
       "      <td>7521000</td>\n",
       "      <td>Under Construction</td>\n",
       "      <td>Ameenpur</td>\n",
       "      <td>Lalitha Construction and Developers</td>\n",
       "      <td>Jan 2023</td>\n",
       "      <td>BUILDER</td>\n",
       "    </tr>\n",
       "    <tr>\n",
       "      <th>1</th>\n",
       "      <td>Villa</td>\n",
       "      <td>3</td>\n",
       "      <td>1575</td>\n",
       "      <td>8275</td>\n",
       "      <td>8400000</td>\n",
       "      <td>Under Construction</td>\n",
       "      <td>Harshaguda</td>\n",
       "      <td>Nest Makers</td>\n",
       "      <td>Sep 2024</td>\n",
       "      <td>BUILDER</td>\n",
       "    </tr>\n",
       "    <tr>\n",
       "      <th>2</th>\n",
       "      <td>Apartment</td>\n",
       "      <td>3</td>\n",
       "      <td>2548</td>\n",
       "      <td>7810</td>\n",
       "      <td>19900000</td>\n",
       "      <td>Under Construction</td>\n",
       "      <td>Serilingampally</td>\n",
       "      <td>Candeur Developers And Builders</td>\n",
       "      <td>Dec 2025</td>\n",
       "      <td>BUILDER</td>\n",
       "    </tr>\n",
       "    <tr>\n",
       "      <th>3</th>\n",
       "      <td>Apartment</td>\n",
       "      <td>3</td>\n",
       "      <td>1775</td>\n",
       "      <td>5199</td>\n",
       "      <td>9228000</td>\n",
       "      <td>Under Construction</td>\n",
       "      <td>Kollur</td>\n",
       "      <td>GHR Infra</td>\n",
       "      <td>Nov 2025</td>\n",
       "      <td>BUILDER</td>\n",
       "    </tr>\n",
       "    <tr>\n",
       "      <th>4</th>\n",
       "      <td>Apartment</td>\n",
       "      <td>3</td>\n",
       "      <td>1835</td>\n",
       "      <td>6500</td>\n",
       "      <td>11900000</td>\n",
       "      <td>Under Construction</td>\n",
       "      <td>Nizampet</td>\n",
       "      <td>Vazhraa Nirmaan Pvt Ltd</td>\n",
       "      <td>Apr 2023</td>\n",
       "      <td>BUILDER</td>\n",
       "    </tr>\n",
       "    <tr>\n",
       "      <th>...</th>\n",
       "      <td>...</td>\n",
       "      <td>...</td>\n",
       "      <td>...</td>\n",
       "      <td>...</td>\n",
       "      <td>...</td>\n",
       "      <td>...</td>\n",
       "      <td>...</td>\n",
       "      <td>...</td>\n",
       "      <td>...</td>\n",
       "      <td>...</td>\n",
       "    </tr>\n",
       "    <tr>\n",
       "      <th>1003</th>\n",
       "      <td>Independent</td>\n",
       "      <td>3</td>\n",
       "      <td>1575</td>\n",
       "      <td>7222</td>\n",
       "      <td>8400000</td>\n",
       "      <td>Ready to move</td>\n",
       "      <td>Madhapur</td>\n",
       "      <td>Sahara Real Estate Consultants</td>\n",
       "      <td>6 years old</td>\n",
       "      <td>AGENT</td>\n",
       "    </tr>\n",
       "    <tr>\n",
       "      <th>1004</th>\n",
       "      <td>Apartment</td>\n",
       "      <td>3</td>\n",
       "      <td>1670</td>\n",
       "      <td>10000</td>\n",
       "      <td>16700000</td>\n",
       "      <td>Ready to move</td>\n",
       "      <td>Madhapur</td>\n",
       "      <td>Sahara Real Estate Consultants</td>\n",
       "      <td>6 years old</td>\n",
       "      <td>AGENT</td>\n",
       "    </tr>\n",
       "    <tr>\n",
       "      <th>1005</th>\n",
       "      <td>Apartment</td>\n",
       "      <td>3</td>\n",
       "      <td>1550</td>\n",
       "      <td>10004</td>\n",
       "      <td>15500000</td>\n",
       "      <td>Ready to move</td>\n",
       "      <td>Madhapur</td>\n",
       "      <td>Sahara Real Estate Consultants</td>\n",
       "      <td>6 years old</td>\n",
       "      <td>AGENT</td>\n",
       "    </tr>\n",
       "    <tr>\n",
       "      <th>1006</th>\n",
       "      <td>Apartment</td>\n",
       "      <td>3</td>\n",
       "      <td>1360</td>\n",
       "      <td>6617</td>\n",
       "      <td>9000000</td>\n",
       "      <td>Ready to move</td>\n",
       "      <td>Madhapur</td>\n",
       "      <td>Sahara Real Estate Consultants</td>\n",
       "      <td>6 years old</td>\n",
       "      <td>AGENT</td>\n",
       "    </tr>\n",
       "    <tr>\n",
       "      <th>1007</th>\n",
       "      <td>Apartment</td>\n",
       "      <td>2</td>\n",
       "      <td>1000</td>\n",
       "      <td>4350</td>\n",
       "      <td>4350000</td>\n",
       "      <td>Ready to move</td>\n",
       "      <td>Kowkur</td>\n",
       "      <td>Vikram Reddy</td>\n",
       "      <td>1 year old</td>\n",
       "      <td>AGENT</td>\n",
       "    </tr>\n",
       "  </tbody>\n",
       "</table>\n",
       "<p>1008 rows × 10 columns</p>\n",
       "</div>"
      ],
      "text/plain": [
       "             Type  BHK   sft  Costpersft    Prices construction_status  \\\n",
       "0       Apartment    3  1535        4900   7521000  Under Construction   \n",
       "1           Villa    3  1575        8275   8400000  Under Construction   \n",
       "2       Apartment    3  2548        7810  19900000  Under Construction   \n",
       "3       Apartment    3  1775        5199   9228000  Under Construction   \n",
       "4       Apartment    3  1835        6500  11900000  Under Construction   \n",
       "...           ...  ...   ...         ...       ...                 ...   \n",
       "1003  Independent    3  1575        7222   8400000       Ready to move   \n",
       "1004    Apartment    3  1670       10000  16700000       Ready to move   \n",
       "1005    Apartment    3  1550       10004  15500000       Ready to move   \n",
       "1006    Apartment    3  1360        6617   9000000       Ready to move   \n",
       "1007    Apartment    2  1000        4350   4350000       Ready to move   \n",
       "\n",
       "             Location                          seller_info     Handover  \\\n",
       "0            Ameenpur  Lalitha Construction and Developers     Jan 2023   \n",
       "1          Harshaguda                          Nest Makers     Sep 2024   \n",
       "2     Serilingampally      Candeur Developers And Builders     Dec 2025   \n",
       "3              Kollur                            GHR Infra     Nov 2025   \n",
       "4            Nizampet              Vazhraa Nirmaan Pvt Ltd     Apr 2023   \n",
       "...               ...                                  ...          ...   \n",
       "1003         Madhapur       Sahara Real Estate Consultants  6 years old   \n",
       "1004         Madhapur       Sahara Real Estate Consultants  6 years old   \n",
       "1005         Madhapur       Sahara Real Estate Consultants  6 years old   \n",
       "1006         Madhapur       Sahara Real Estate Consultants  6 years old   \n",
       "1007           Kowkur                         Vikram Reddy   1 year old   \n",
       "\n",
       "       seller  \n",
       "0     BUILDER  \n",
       "1     BUILDER  \n",
       "2     BUILDER  \n",
       "3     BUILDER  \n",
       "4     BUILDER  \n",
       "...       ...  \n",
       "1003    AGENT  \n",
       "1004    AGENT  \n",
       "1005    AGENT  \n",
       "1006    AGENT  \n",
       "1007    AGENT  \n",
       "\n",
       "[1008 rows x 10 columns]"
      ]
     },
     "execution_count": 41,
     "metadata": {},
     "output_type": "execute_result"
    }
   ],
   "source": [
    "df"
   ]
  }
 ],
 "metadata": {
  "kernelspec": {
   "display_name": "Python 3 (ipykernel)",
   "language": "python",
   "name": "python3"
  },
  "language_info": {
   "codemirror_mode": {
    "name": "ipython",
    "version": 3
   },
   "file_extension": ".py",
   "mimetype": "text/x-python",
   "name": "python",
   "nbconvert_exporter": "python",
   "pygments_lexer": "ipython3",
   "version": "3.9.7"
  }
 },
 "nbformat": 4,
 "nbformat_minor": 5
}
